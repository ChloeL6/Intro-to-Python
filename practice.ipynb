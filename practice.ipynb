{
 "cells": [
  {
   "cell_type": "markdown",
   "metadata": {},
   "source": [
    "1. A function called list_sayer() that takes a list as an argument\n",
    "\n",
    "If the list isn't empty (i.e. there's one or more items in it):\n",
    "    print a string for each item saying the name of the item and its index\n",
    "    return the Boolean True\n",
    "If the list is empty:\n",
    "    print a string saying that the list is empty\n",
    "    return the Boolean False"
   ]
  },
  {
   "cell_type": "code",
   "execution_count": 64,
   "metadata": {},
   "outputs": [
    {
     "name": "stdout",
     "output_type": "stream",
     "text": [
      "the item name is there, and its index is 0\n",
      "the item name is is, and its index is 1\n",
      "the item name is a, and its index is 2\n",
      "the item name is bird, and its index is 3\n"
     ]
    },
    {
     "data": {
      "text/plain": [
       "True"
      ]
     },
     "execution_count": 64,
     "metadata": {},
     "output_type": "execute_result"
    }
   ],
   "source": [
    "list_test = [\"there\", \"is\", \"a\", \"bird\"]\n",
    "empty_list= []\n",
    "\n",
    "def list_sayer(list):\n",
    "    if len(list) != 0:\n",
    "        for index in range(len(list)):\n",
    "            print(f'the item name is {list[index]}, and its index is {index}')\n",
    "        result = True\n",
    "    else:\n",
    "        print(\"List is empty\")\n",
    "        result = False\n",
    "    return result\n",
    "\n",
    "list_sayer(list_test)"
   ]
  },
  {
   "cell_type": "markdown",
   "metadata": {},
   "source": [
    "A function called dict_sayer() that takes a dictionary as an argument\n",
    "\n",
    "  If the dictionary isn't empty (i.e. there's one or more items in it):\n",
    "    print a string for each item saying the name of each key and its value\n",
    "    return the Boolean True\n",
    "If the dictionary is empty:\n",
    "    print a string saying that the dictionary is empty\n",
    "    return the Boolean False"
   ]
  },
  {
   "cell_type": "code",
   "execution_count": 62,
   "metadata": {},
   "outputs": [
    {
     "name": "stdout",
     "output_type": "stream",
     "text": [
      "Dictionary is empty\n"
     ]
    },
    {
     "data": {
      "text/plain": [
       "False"
      ]
     },
     "execution_count": 62,
     "metadata": {},
     "output_type": "execute_result"
    }
   ],
   "source": [
    "dict_test = { \"hi\": 2, \"tea\": 3, \"cloud\": 4}\n",
    "empty_dict = {}\n",
    "\n",
    "def dict_sayer(dict_test):\n",
    "    if len(dict_test) != 0:\n",
    "        for k, v in dict_test.items():\n",
    "            print(f'item key is {k}, its value is {v}')\n",
    "        result = True\n",
    "    else:\n",
    "        print(\"Dictionary is empty\")\n",
    "        result = False\n",
    "\n",
    "    return result\n",
    "\n",
    "\n",
    "dict_sayer(empty_dict)"
   ]
  },
  {
   "cell_type": "markdown",
   "metadata": {},
   "source": [
    "A function called greatest() that takes as an argument a dictionary that has strings as keys and integers as values\n",
    "\n",
    "  find the greatest value\n",
    "  return a tuple with the greatest value and its key"
   ]
  },
  {
   "cell_type": "code",
   "execution_count": 90,
   "metadata": {},
   "outputs": [
    {
     "data": {
      "text/plain": [
       "(999, ('oil', 'peanut'))"
      ]
     },
     "execution_count": 90,
     "metadata": {},
     "output_type": "execute_result"
    }
   ],
   "source": [
    "more_dict = {tuple([\"salt\", \"pepper\"]): 9, tuple([\"pepper\", \"chili\"]): 99, tuple([\"oil\", \"peanut\"]): 999 }\n",
    "\n",
    "def greatest(more_dict) :\n",
    "    greatest_value = float('-inf')\n",
    "    same_key = \"\"\n",
    "    for k,v in more_dict.items():\n",
    "        if v > greatest_value:\n",
    "            greatest_value = v\n",
    "            same_key = k\n",
    "            \n",
    "    return (greatest_value, same_key)\n",
    "\n",
    "greatest(more_dict)\n"
   ]
  },
  {
   "cell_type": "code",
   "execution_count": null,
   "metadata": {},
   "outputs": [],
   "source": []
  }
 ],
 "metadata": {
  "kernelspec": {
   "display_name": "Python 3.8.10 64-bit",
   "language": "python",
   "name": "python3"
  },
  "language_info": {
   "codemirror_mode": {
    "name": "ipython",
    "version": 3
   },
   "file_extension": ".py",
   "mimetype": "text/x-python",
   "name": "python",
   "nbconvert_exporter": "python",
   "pygments_lexer": "ipython3",
   "version": "3.8.10"
  },
  "orig_nbformat": 4,
  "vscode": {
   "interpreter": {
    "hash": "916dbcbb3f70747c44a77c7bcd40155683ae19c65e1c03b4aa3499c5328201f1"
   }
  }
 },
 "nbformat": 4,
 "nbformat_minor": 2
}
