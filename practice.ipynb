{
 "cells": [
  {
   "cell_type": "markdown",
   "metadata": {},
   "source": [
    "1. A function called list_sayer() that takes a list as an argument\n",
    "\n",
    "If the list isn't empty (i.e. there's one or more items in it):\n",
    "    print a string for each item saying the name of the item and its index\n",
    "    return the Boolean True\n",
    "If the list is empty:\n",
    "    print a string saying that the list is empty\n",
    "    return the Boolean False"
   ]
  },
  {
   "cell_type": "code",
   "execution_count": 56,
   "metadata": {},
   "outputs": [
    {
     "name": "stdout",
     "output_type": "stream",
     "text": [
      "the item name is there, and its index is 0\n",
      "the item name is is, and its index is 1\n",
      "the item name is a, and its index is 2\n",
      "the item name is bird, and its index is 3\n"
     ]
    },
    {
     "data": {
      "text/plain": [
       "True"
      ]
     },
     "execution_count": 56,
     "metadata": {},
     "output_type": "execute_result"
    }
   ],
   "source": [
    "list_test = [\"there\", \"is\", \"a\", \"bird\"]\n",
    "\n",
    "empty_list = []\n",
    "\n",
    "\n",
    "\n",
    "def list_sayer(list):\n",
    "    if len(list) != 0:\n",
    "        for index in range(len(list)):\n",
    "            print(f'the item name is {list[index]}, and its index is {index}')\n",
    "        result = True\n",
    "    else:\n",
    "        print(\"List is empty\")\n",
    "        result = False\n",
    "    return result\n",
    "\n",
    "list_sayer(list_test)"
   ]
  },
  {
   "cell_type": "markdown",
   "metadata": {},
   "source": [
    "A function called dict_sayer() that takes a dictionary as an argument\n",
    "\n",
    "  If the dictionary isn't empty (i.e. there's one or more items in it):\n",
    "    print a string for each item saying the name of each key and its value\n",
    "    return the Boolean True\n",
    "If the dictionary is empty:\n",
    "    print a string saying that the dictionary is empty\n",
    "    return the Boolean False"
   ]
  },
  {
   "cell_type": "code",
   "execution_count": null,
   "metadata": {},
   "outputs": [],
   "source": []
  },
  {
   "cell_type": "code",
   "execution_count": 52,
   "metadata": {},
   "outputs": [
    {
     "name": "stdout",
     "output_type": "stream",
     "text": [
      "the character from the word 'this'\n",
      "the character from the word 'is'\n",
      "the character from the word 'a'\n",
      "the character from the word 'str'\n",
      "the character from the word 'list'\n"
     ]
    }
   ],
   "source": [
    "stringy_list = [\"this\", \"is\", \"a\", \"str\", \"list\"]\n",
    "for item in stringy_list:\n",
    "        print(f\"the character from the word '{item}'\")\n"
   ]
  }
 ],
 "metadata": {
  "kernelspec": {
   "display_name": "Python 3.8.10 64-bit",
   "language": "python",
   "name": "python3"
  },
  "language_info": {
   "codemirror_mode": {
    "name": "ipython",
    "version": 3
   },
   "file_extension": ".py",
   "mimetype": "text/x-python",
   "name": "python",
   "nbconvert_exporter": "python",
   "pygments_lexer": "ipython3",
   "version": "3.8.10"
  },
  "orig_nbformat": 4,
  "vscode": {
   "interpreter": {
    "hash": "916dbcbb3f70747c44a77c7bcd40155683ae19c65e1c03b4aa3499c5328201f1"
   }
  }
 },
 "nbformat": 4,
 "nbformat_minor": 2
}
