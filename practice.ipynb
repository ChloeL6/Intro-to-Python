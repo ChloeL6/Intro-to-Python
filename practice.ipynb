{
 "cells": [
  {
   "cell_type": "markdown",
   "metadata": {},
   "source": [
    "1. A function called list_sayer() that takes a list as an argument\n",
    "\n",
    "If the list isn't empty (i.e. there's one or more items in it):\n",
    "    print a string for each item saying the name of the item and its index\n",
    "    return the Boolean True\n",
    "If the list is empty:\n",
    "    print a string saying that the list is empty\n",
    "    return the Boolean False"
   ]
  },
  {
   "cell_type": "code",
   "execution_count": 23,
   "metadata": {},
   "outputs": [
    {
     "name": "stdout",
     "output_type": "stream",
     "text": [
      "List is not empty\n"
     ]
    }
   ],
   "source": [
    "list_test = [\"there\", \"is\", \"a\", \"bird\"]\n",
    "empty_list = []\n",
    "def list_sayer(empty_list):\n",
    "    if len(empty_list) != 0:\n",
    "        print(\"List is not empty\")\n",
    "    else:\n",
    "        print(\"List is empty\")\n",
    " \n",
    "list_sayer(list_test)"
   ]
  }
 ],
 "metadata": {
  "kernelspec": {
   "display_name": "Python 3.8.10 64-bit",
   "language": "python",
   "name": "python3"
  },
  "language_info": {
   "codemirror_mode": {
    "name": "ipython",
    "version": 3
   },
   "file_extension": ".py",
   "mimetype": "text/x-python",
   "name": "python",
   "nbconvert_exporter": "python",
   "pygments_lexer": "ipython3",
   "version": "3.8.10"
  },
  "orig_nbformat": 4,
  "vscode": {
   "interpreter": {
    "hash": "916dbcbb3f70747c44a77c7bcd40155683ae19c65e1c03b4aa3499c5328201f1"
   }
  }
 },
 "nbformat": 4,
 "nbformat_minor": 2
}
